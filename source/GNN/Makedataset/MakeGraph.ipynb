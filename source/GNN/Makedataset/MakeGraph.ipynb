{
 "cells": [
  {
   "cell_type": "code",
   "execution_count": 1,
   "metadata": {},
   "outputs": [],
   "source": [
    "import os\n",
    "import sys\n",
    "import pandas as pd\n",
    "import numpy as np\n",
    "from scipy.sparse import lil_matrix\n",
    "from scipy.io import mmwrite, mmread\n",
    "import seaborn as sns\n",
    "import pickle\n",
    "import utils\n",
    "from importlib import reload\n",
    "reload(utils)\n",
    "%matplotlib inline\n",
    "sns.set(font='IPAexGothic')"
   ]
  },
  {
   "cell_type": "code",
   "execution_count": 2,
   "metadata": {},
   "outputs": [],
   "source": [
    "# 一つ上の階層のmoduleをインポートできるようにする\n",
    "current_dir = os.path.dirname(os.path.abspath(\"__file__\"))\n",
    "sys.path.append( str(current_dir) + '/../' )"
   ]
  },
  {
   "cell_type": "code",
   "execution_count": 3,
   "metadata": {},
   "outputs": [],
   "source": [
    "from setting_param import MakeSample_MakeGraph_InputDir, MakeSample_MakeGraph_OutputDir\n",
    "InputDir = MakeSample_MakeGraph_InputDir\n",
    "OutputDir = MakeSample_MakeGraph_OutputDir"
   ]
  },
  {
   "cell_type": "code",
   "execution_count": 4,
   "metadata": {},
   "outputs": [],
   "source": [
    "os.mkdir(OutputDir)"
   ]
  },
  {
   "cell_type": "code",
   "execution_count": 5,
   "metadata": {},
   "outputs": [],
   "source": [
    "_ = pickle.load(open(InputDir + \"/data.pickle\",\"rb\"))\n",
    "cluster_sizes = _[\"cluster_sizes\"]\n",
    "cluster2id = _[\"cluster2id\"]\n",
    "locations = _[\"locations\"]\n",
    "timestamps = _[\"timestamps\"]\n",
    "raw_data = _[\"raw_data\"]\n",
    "cluster_data = _[\"cluster_data\"]\n",
    "onehot_data = _[\"onehot_data\"]"
   ]
  },
  {
   "cell_type": "code",
   "execution_count": 6,
   "metadata": {},
   "outputs": [],
   "source": [
    "in_size = 48\n",
    "out_size = 8\n",
    "\n",
    "data = utils.data_iterator(cluster_data,timestamps,in_size,out_size=out_size,slide=1)\n",
    "attr = data[0][1]"
   ]
  },
  {
   "cell_type": "code",
   "execution_count": 7,
   "metadata": {},
   "outputs": [
    {
     "data": {
      "text/plain": [
       "(89014, 8, 4)"
      ]
     },
     "execution_count": 7,
     "metadata": {},
     "output_type": "execute_result"
    }
   ],
   "source": [
    "attr.shape"
   ]
  },
  {
   "cell_type": "code",
   "execution_count": 8,
   "metadata": {},
   "outputs": [
    {
     "data": {
      "text/plain": [
       "array([10, 15,  5, 13,  6,  6, 14, 15,  6, 20, 12,  6, 10,  5, 18, 10, 10,\n",
       "       11, 16, 29,  7, 12, 10, 10, 18, 17, 12])"
      ]
     },
     "execution_count": 8,
     "metadata": {},
     "output_type": "execute_result"
    }
   ],
   "source": [
    "cluster_sizes"
   ]
  },
  {
   "cell_type": "code",
   "execution_count": 9,
   "metadata": {},
   "outputs": [
    {
     "data": {
      "text/plain": [
       "{0: [10, 11, 12, 13, 14, 15, 310, 311, 312, 313],\n",
       " 1: [16, 17, 18, 19, 20, 21, 22, 23, 24, 25, 26, 27, 28, 29, 30],\n",
       " 2: [31, 32, 33, 34, 35],\n",
       " 3: [36, 37, 38, 39, 40, 41, 42, 43, 44, 45, 46, 47, 48],\n",
       " 4: [101, 102, 103, 104, 105, 106],\n",
       " 5: [107, 108, 109, 110, 111, 112],\n",
       " 6: [58, 59, 60, 61, 62, 63, 64, 65, 66, 67, 68, 69, 70, 71],\n",
       " 7: [113,\n",
       "  114,\n",
       "  115,\n",
       "  116,\n",
       "  117,\n",
       "  118,\n",
       "  119,\n",
       "  120,\n",
       "  121,\n",
       "  122,\n",
       "  123,\n",
       "  124,\n",
       "  125,\n",
       "  126,\n",
       "  127],\n",
       " 8: [299, 300, 301, 302, 303, 304],\n",
       " 9: [203,\n",
       "  204,\n",
       "  205,\n",
       "  206,\n",
       "  207,\n",
       "  208,\n",
       "  209,\n",
       "  210,\n",
       "  211,\n",
       "  212,\n",
       "  178,\n",
       "  179,\n",
       "  180,\n",
       "  181,\n",
       "  182,\n",
       "  183,\n",
       "  184,\n",
       "  185,\n",
       "  186,\n",
       "  187],\n",
       " 10: [213, 214, 215, 216, 217, 218, 188, 189, 190, 191, 192, 193],\n",
       " 11: [219, 220, 194, 195, 196, 197],\n",
       " 12: [221, 222, 223, 224, 225, 198, 199, 200, 201, 202],\n",
       " 13: [318, 319, 320, 321, 322],\n",
       " 14: [290,\n",
       "  291,\n",
       "  292,\n",
       "  293,\n",
       "  294,\n",
       "  295,\n",
       "  296,\n",
       "  297,\n",
       "  298,\n",
       "  138,\n",
       "  139,\n",
       "  140,\n",
       "  141,\n",
       "  142,\n",
       "  143,\n",
       "  144,\n",
       "  145,\n",
       "  146],\n",
       " 15: [152, 153, 154, 155, 156, 147, 148, 149, 150, 151],\n",
       " 16: [167, 168, 169, 170, 171, 157, 158, 159, 160, 161],\n",
       " 17: [172, 173, 174, 175, 176, 177, 162, 163, 164, 165, 166],\n",
       " 18: [305,\n",
       "  306,\n",
       "  307,\n",
       "  308,\n",
       "  309,\n",
       "  250,\n",
       "  251,\n",
       "  252,\n",
       "  253,\n",
       "  254,\n",
       "  273,\n",
       "  274,\n",
       "  275,\n",
       "  276,\n",
       "  277,\n",
       "  278],\n",
       " 19: [255,\n",
       "  256,\n",
       "  257,\n",
       "  258,\n",
       "  259,\n",
       "  260,\n",
       "  261,\n",
       "  262,\n",
       "  263,\n",
       "  264,\n",
       "  265,\n",
       "  266,\n",
       "  267,\n",
       "  268,\n",
       "  269,\n",
       "  270,\n",
       "  271,\n",
       "  272,\n",
       "  279,\n",
       "  280,\n",
       "  281,\n",
       "  282,\n",
       "  283,\n",
       "  284,\n",
       "  285,\n",
       "  286,\n",
       "  287,\n",
       "  288,\n",
       "  289],\n",
       " 20: [229, 230, 231, 232, 233, 234, 235],\n",
       " 21: [72, 73, 74, 75, 76, 77, 78, 79, 80, 81, 82, 83],\n",
       " 22: [0, 1, 2, 3, 4, 5, 6, 7, 8, 9],\n",
       " 23: [128, 129, 130, 131, 132, 133, 134, 135, 136, 137],\n",
       " 24: [236,\n",
       "  237,\n",
       "  238,\n",
       "  239,\n",
       "  240,\n",
       "  314,\n",
       "  315,\n",
       "  316,\n",
       "  317,\n",
       "  241,\n",
       "  242,\n",
       "  243,\n",
       "  244,\n",
       "  245,\n",
       "  246,\n",
       "  247,\n",
       "  248,\n",
       "  249],\n",
       " 25: [84, 85, 86, 87, 88, 89, 90, 91, 92, 93, 94, 95, 96, 97, 98, 99, 100],\n",
       " 26: [226, 227, 228, 49, 50, 51, 52, 53, 54, 55, 56, 57]}"
      ]
     },
     "execution_count": 9,
     "metadata": {},
     "output_type": "execute_result"
    }
   ],
   "source": [
    "cluster2id"
   ]
  },
  {
   "cell_type": "code",
   "execution_count": 10,
   "metadata": {},
   "outputs": [
    {
     "data": {
      "text/plain": [
       "[0,\n",
       " 1,\n",
       " 2,\n",
       " 3,\n",
       " 4,\n",
       " 5,\n",
       " 6,\n",
       " 7,\n",
       " 8,\n",
       " 9,\n",
       " 10,\n",
       " 11,\n",
       " 12,\n",
       " 13,\n",
       " 14,\n",
       " 15,\n",
       " 16,\n",
       " 17,\n",
       " 18,\n",
       " 19,\n",
       " 20,\n",
       " 21,\n",
       " 22,\n",
       " 23,\n",
       " 24,\n",
       " 25,\n",
       " 26]"
      ]
     },
     "execution_count": 10,
     "metadata": {},
     "output_type": "execute_result"
    }
   ],
   "source": [
    "cluster_list = list(range(27))\n",
    "cluster_list"
   ]
  },
  {
   "cell_type": "code",
   "execution_count": 11,
   "metadata": {},
   "outputs": [
    {
     "data": {
      "text/plain": [
       "array([[43.46304594, -3.79902855],\n",
       "       [43.46305129, -3.79897021],\n",
       "       [43.46305567, -3.79892327],\n",
       "       [43.46306005, -3.79887834],\n",
       "       [43.46306638, -3.79881665],\n",
       "       [43.46307271, -3.79875228],\n",
       "       [43.46307903, -3.79868656],\n",
       "       [43.4630839 , -3.79862018],\n",
       "       [43.4630912 , -3.7985491 ],\n",
       "       [43.46309607, -3.79849143],\n",
       "       [43.4628936 , -3.80350515],\n",
       "       [43.46289944, -3.80344816],\n",
       "       [43.46290723, -3.80339049],\n",
       "       [43.46291307, -3.80332947],\n",
       "       [43.46291794, -3.80326845],\n",
       "       [43.46292524, -3.80320542],\n",
       "       [43.46300213, -3.80242355],\n",
       "       [43.463007  , -3.80236924],\n",
       "       [43.46301041, -3.80231157],\n",
       "       [43.46301771, -3.80223848],\n",
       "       [43.46302355, -3.80217746],\n",
       "       [43.46302988, -3.80212247],\n",
       "       [43.4630362 , -3.80205944],\n",
       "       [43.46304253, -3.80201183],\n",
       "       [43.46304886, -3.80195349],\n",
       "       [43.4630547 , -3.80188644],\n",
       "       [43.46306151, -3.80182341],\n",
       "       [43.46306492, -3.80176306],\n",
       "       [43.46307222, -3.80170405],\n",
       "       [43.46307757, -3.80164571],\n",
       "       [43.4630839 , -3.80159408],\n",
       "       [43.46312284, -3.80117297],\n",
       "       [43.46313062, -3.80109586],\n",
       "       [43.46313598, -3.80104423],\n",
       "       [43.46313987, -3.80098857],\n",
       "       [43.46314571, -3.80092487],\n",
       "       [43.46318903, -3.80050845],\n",
       "       [43.4631973 , -3.80043536],\n",
       "       [43.46320557, -3.80036965],\n",
       "       [43.46320265, -3.80032472],\n",
       "       [43.46320947, -3.80027778],\n",
       "       [43.46321433, -3.80022816],\n",
       "       [43.46322017, -3.80017117],\n",
       "       [43.46322747, -3.80011417],\n",
       "       [43.46323234, -3.80006254],\n",
       "       [43.46323624, -3.80000219],\n",
       "       [43.46324354, -3.79992977],\n",
       "       [43.46324889, -3.79987143],\n",
       "       [43.4632557 , -3.79981913],\n",
       "       [43.46315564, -3.79790578],\n",
       "       [43.46316099, -3.79785147],\n",
       "       [43.46316635, -3.79779313],\n",
       "       [43.4631717 , -3.79773814],\n",
       "       [43.46317657, -3.7976845 ],\n",
       "       [43.46318192, -3.79762214],\n",
       "       [43.46318825, -3.79756514],\n",
       "       [43.46319555, -3.79750077],\n",
       "       [43.46319895, -3.79744444],\n",
       "       [43.46289506, -3.80060837],\n",
       "       [43.46290041, -3.80054131],\n",
       "       [43.46290479, -3.80049236],\n",
       "       [43.46291063, -3.80043536],\n",
       "       [43.46291696, -3.80037502],\n",
       "       [43.46292183, -3.80031936],\n",
       "       [43.46292816, -3.8002523 ],\n",
       "       [43.46293497, -3.8001933 ],\n",
       "       [43.46293886, -3.80013228],\n",
       "       [43.46294519, -3.80006924],\n",
       "       [43.46295152, -3.80000487],\n",
       "       [43.46295784, -3.79993983],\n",
       "       [43.46296368, -3.7998721 ],\n",
       "       [43.46296952, -3.79981913],\n",
       "       [43.46336612, -3.79939869],\n",
       "       [43.46337391, -3.79933968],\n",
       "       [43.46338169, -3.79928067],\n",
       "       [43.46338559, -3.79921228],\n",
       "       [43.46339143, -3.79914254],\n",
       "       [43.46339928, -3.79908487],\n",
       "       [43.46340512, -3.7990272 ],\n",
       "       [43.46341096, -3.79896618],\n",
       "       [43.46341729, -3.79889779],\n",
       "       [43.4634241 , -3.79883274],\n",
       "       [43.46342945, -3.79877172],\n",
       "       [43.46343578, -3.79870668],\n",
       "       [43.46347326, -3.79828557],\n",
       "       [43.46348104, -3.79823126],\n",
       "       [43.46348932, -3.7981803 ],\n",
       "       [43.46350538, -3.79800394],\n",
       "       [43.46350879, -3.79795566],\n",
       "       [43.46351365, -3.79790269],\n",
       "       [43.46351973, -3.79784465],\n",
       "       [43.46352557, -3.79778631],\n",
       "       [43.46353069, -3.79773907],\n",
       "       [43.46353799, -3.79767001],\n",
       "       [43.46354139, -3.79760697],\n",
       "       [43.4635487 , -3.79754394],\n",
       "       [43.46355429, -3.79748523],\n",
       "       [43.46356431, -3.79740476],\n",
       "       [43.46357161, -3.79732899],\n",
       "       [43.46357988, -3.79723847],\n",
       "       [43.46358523, -3.79718214],\n",
       "       [43.46278506, -3.80077131],\n",
       "       [43.46274321, -3.80076326],\n",
       "       [43.46269551, -3.80075656],\n",
       "       [43.4626629 , -3.8007465 ],\n",
       "       [43.46262737, -3.80074583],\n",
       "       [43.46258844, -3.80073577],\n",
       "       [43.46243318, -3.80100332],\n",
       "       [43.46243853, -3.80095169],\n",
       "       [43.46244389, -3.80088866],\n",
       "       [43.46244973, -3.8008377 ],\n",
       "       [43.46245313, -3.80078405],\n",
       "       [43.46245946, -3.80073309],\n",
       "       [43.46246676, -3.80066603],\n",
       "       [43.46247455, -3.80058691],\n",
       "       [43.4624799 , -3.80053259],\n",
       "       [43.46248185, -3.80047962],\n",
       "       [43.46249061, -3.80042464],\n",
       "       [43.46249499, -3.80036496],\n",
       "       [43.46249986, -3.80031064],\n",
       "       [43.46250473, -3.80025901],\n",
       "       [43.46251008, -3.80019665],\n",
       "       [43.46253101, -3.7999814 ],\n",
       "       [43.46253977, -3.79991233],\n",
       "       [43.46254317, -3.79986003],\n",
       "       [43.46254804, -3.79979968],\n",
       "       [43.46255388, -3.79974   ],\n",
       "       [43.46256118, -3.79968569],\n",
       "       [43.46259379, -3.79931487],\n",
       "       [43.46260206, -3.79923776],\n",
       "       [43.46261326, -3.79914254],\n",
       "       [43.46262153, -3.79905671],\n",
       "       [43.46263613, -3.79891925],\n",
       "       [43.46264197, -3.79884951],\n",
       "       [43.46264635, -3.79878782],\n",
       "       [43.4626522 , -3.79871137],\n",
       "       [43.46265804, -3.79866444],\n",
       "       [43.46266485, -3.79861012],\n",
       "       [43.46436278, -3.79855007],\n",
       "       [43.46432676, -3.79854336],\n",
       "       [43.46429367, -3.79853934],\n",
       "       [43.46425668, -3.79853531],\n",
       "       [43.46421093, -3.79852459],\n",
       "       [43.46400603, -3.79848837],\n",
       "       [43.46407952, -3.79850715],\n",
       "       [43.46404594, -3.79849709],\n",
       "       [43.46412819, -3.7985152 ],\n",
       "       [43.46379288, -3.79844112],\n",
       "       [43.46374859, -3.79844112],\n",
       "       [43.46365369, -3.79842838],\n",
       "       [43.46362205, -3.79842168],\n",
       "       [43.4635836 , -3.79841229],\n",
       "       [43.46379091, -3.7985152 ],\n",
       "       [43.46374614, -3.79850782],\n",
       "       [43.46365187, -3.7984921 ],\n",
       "       [43.46361196, -3.79848272],\n",
       "       [43.46357352, -3.79847534],\n",
       "       [43.46338224, -3.79837677],\n",
       "       [43.46334136, -3.79836939],\n",
       "       [43.46330681, -3.79836001],\n",
       "       [43.46327566, -3.79835464],\n",
       "       [43.46323331, -3.79834726],\n",
       "       [43.463036  , -3.798312  ],\n",
       "       [43.463014  , -3.798306  ],\n",
       "       [43.462978  , -3.7983    ],\n",
       "       [43.462931  , -3.798293  ],\n",
       "       [43.462885  , -3.798283  ],\n",
       "       [43.4633816 , -3.79844144],\n",
       "       [43.46334461, -3.79843339],\n",
       "       [43.46331347, -3.79842937],\n",
       "       [43.46326787, -3.798417  ],\n",
       "       [43.46322489, -3.79841059],\n",
       "       [43.46303848, -3.79837706],\n",
       "       [43.46297926, -3.7983647 ],\n",
       "       [43.46295054, -3.79836068],\n",
       "       [43.46291307, -3.79835397],\n",
       "       [43.46287365, -3.79834793],\n",
       "       [43.46282984, -3.79833922],\n",
       "       [43.46424564, -3.79978761],\n",
       "       [43.46420038, -3.79978292],\n",
       "       [43.46415998, -3.79977822],\n",
       "       [43.46411958, -3.79976884],\n",
       "       [43.46408016, -3.79976213],\n",
       "       [43.46403685, -3.7997514 ],\n",
       "       [43.46399645, -3.79974604],\n",
       "       [43.46395849, -3.79974134],\n",
       "       [43.46391469, -3.79973397],\n",
       "       [43.46387721, -3.79972458],\n",
       "       [43.46367132, -3.79968409],\n",
       "       [43.46362898, -3.7996794 ],\n",
       "       [43.46359053, -3.79967269],\n",
       "       [43.46354916, -3.79966464],\n",
       "       [43.46351704, -3.7996566 ],\n",
       "       [43.46347616, -3.79964654],\n",
       "       [43.46325898, -3.79960855],\n",
       "       [43.46321858, -3.79960386],\n",
       "       [43.46317429, -3.7995938 ],\n",
       "       [43.46313195, -3.7995871 ],\n",
       "       [43.46290479, -3.7995442 ],\n",
       "       [43.46286391, -3.79953884],\n",
       "       [43.46282011, -3.79952878],\n",
       "       [43.4627617 , -3.79951805],\n",
       "       [43.46271498, -3.79951   ],\n",
       "       [43.46424028, -3.79985534],\n",
       "       [43.46420232, -3.79984662],\n",
       "       [43.4641629 , -3.79983924],\n",
       "       [43.46412591, -3.79982784],\n",
       "       [43.46408308, -3.79982181],\n",
       "       [43.46404318, -3.7998151 ],\n",
       "       [43.46399207, -3.7998084 ],\n",
       "       [43.46395216, -3.79980303],\n",
       "       [43.46391079, -3.7997923 ],\n",
       "       [43.46386894, -3.7997856 ],\n",
       "       [43.46362705, -3.79974402],\n",
       "       [43.46358422, -3.79973598],\n",
       "       [43.46353945, -3.79972927],\n",
       "       [43.46349273, -3.79972056],\n",
       "       [43.46345233, -3.79971184],\n",
       "       [43.46341193, -3.79970446],\n",
       "       [43.46317478, -3.79965952],\n",
       "       [43.46312416, -3.7996508 ],\n",
       "       [43.46288484, -3.79960857],\n",
       "       [43.46284444, -3.7996012 ],\n",
       "       [43.46280307, -3.79959248],\n",
       "       [43.46275878, -3.79958376],\n",
       "       [43.46271352, -3.79957639],\n",
       "       [43.46314937, -3.79796327],\n",
       "       [43.46314499, -3.79802429],\n",
       "       [43.46313331, -3.79813024],\n",
       "       [43.46384458, -3.79911479],\n",
       "       [43.46385334, -3.79905578],\n",
       "       [43.46385626, -3.79899946],\n",
       "       [43.46386162, -3.79893776],\n",
       "       [43.46386746, -3.79888278],\n",
       "       [43.46387427, -3.79881505],\n",
       "       [43.46388011, -3.79874934],\n",
       "       [43.46391955, -3.79834324],\n",
       "       [43.46392393, -3.79829764],\n",
       "       [43.46393026, -3.79823729],\n",
       "       [43.46393513, -3.79818365],\n",
       "       [43.46394194, -3.79812598],\n",
       "       [43.46399059, -3.79766573],\n",
       "       [43.46399351, -3.79761275],\n",
       "       [43.46400081, -3.79753966],\n",
       "       [43.46401006, -3.79744109],\n",
       "       [43.46402468, -3.79728846],\n",
       "       [43.46403003, -3.79721269],\n",
       "       [43.46403733, -3.79713692],\n",
       "       [43.46404658, -3.79706316],\n",
       "       [43.46405145, -3.79701018],\n",
       "       [43.46438265, -3.79910321],\n",
       "       [43.46439385, -3.7989758 ],\n",
       "       [43.46440115, -3.79890406],\n",
       "       [43.46440699, -3.79884438],\n",
       "       [43.46441429, -3.79876257],\n",
       "       [43.46444164, -3.79846392],\n",
       "       [43.46444894, -3.79841497],\n",
       "       [43.46445624, -3.79836803],\n",
       "       [43.46446111, -3.79832646],\n",
       "       [43.46447327, -3.79821783],\n",
       "       [43.46448301, -3.79815614],\n",
       "       [43.46449225, -3.79810518],\n",
       "       [43.46449907, -3.79805287],\n",
       "       [43.46450832, -3.79799521],\n",
       "       [43.46453693, -3.79778759],\n",
       "       [43.46455056, -3.79772053],\n",
       "       [43.46456127, -3.79764945],\n",
       "       [43.46457051, -3.79759111],\n",
       "       [43.46458171, -3.79752674],\n",
       "       [43.46459436, -3.79745164],\n",
       "       [43.46460312, -3.7973933 ],\n",
       "       [43.46464702, -3.79712684],\n",
       "       [43.46465529, -3.79707119],\n",
       "       [43.46444349, -3.79898318],\n",
       "       [43.46444787, -3.79892216],\n",
       "       [43.46445566, -3.79884907],\n",
       "       [43.46446247, -3.79878671],\n",
       "       [43.46446685, -3.79872569],\n",
       "       [43.46447269, -3.79866735],\n",
       "       [43.46460507, -3.79767628],\n",
       "       [43.46461578, -3.79761391],\n",
       "       [43.46462697, -3.79755289],\n",
       "       [43.46463427, -3.79749925],\n",
       "       [43.46464546, -3.79743555],\n",
       "       [43.46465325, -3.79737922],\n",
       "       [43.4646625 , -3.7973182 ],\n",
       "       [43.46467369, -3.7972545 ],\n",
       "       [43.46468099, -3.79720353],\n",
       "       [43.46468927, -3.79714587],\n",
       "       [43.46469754, -3.79707881],\n",
       "       [43.46433908, -3.79861549],\n",
       "       [43.46428944, -3.79860744],\n",
       "       [43.46424807, -3.79859872],\n",
       "       [43.46420719, -3.79859067],\n",
       "       [43.46415706, -3.79858196],\n",
       "       [43.46411861, -3.79857726],\n",
       "       [43.46407578, -3.79856989],\n",
       "       [43.46403052, -3.79856117],\n",
       "       [43.46398623, -3.79855312],\n",
       "       [43.46427877, -3.80055971],\n",
       "       [43.46428315, -3.80050473],\n",
       "       [43.46428607, -3.80045175],\n",
       "       [43.46429045, -3.80039274],\n",
       "       [43.46429483, -3.80032837],\n",
       "       [43.46429872, -3.80026333],\n",
       "       [43.46433384, -3.79970582],\n",
       "       [43.46434066, -3.7996334 ],\n",
       "       [43.46435964, -3.79940609],\n",
       "       [43.46436597, -3.79933099],\n",
       "       [43.46437229, -3.79926661],\n",
       "       [43.46296421, -3.80281075],\n",
       "       [43.46297005, -3.80275108],\n",
       "       [43.46297735, -3.80268201],\n",
       "       [43.46298173, -3.80262769],\n",
       "       [43.46398335, -3.79774674],\n",
       "       [43.46397118, -3.79784867],\n",
       "       [43.46396534, -3.79790097],\n",
       "       [43.46395853, -3.797964  ],\n",
       "       [43.4640583 , -3.79945464],\n",
       "       [43.46401255, -3.7994466 ],\n",
       "       [43.46396778, -3.79943989],\n",
       "       [43.46391765, -3.7994305 ],\n",
       "       [43.46387384, -3.79942246]])"
      ]
     },
     "execution_count": 11,
     "metadata": {},
     "output_type": "execute_result"
    }
   ],
   "source": [
    "locations"
   ]
  },
  {
   "cell_type": "code",
   "execution_count": 12,
   "metadata": {},
   "outputs": [
    {
     "data": {
      "text/plain": [
       "(109514, 27)"
      ]
     },
     "execution_count": 12,
     "metadata": {},
     "output_type": "execute_result"
    }
   ],
   "source": [
    "raw_data.shape # そのままの値"
   ]
  },
  {
   "cell_type": "code",
   "execution_count": 13,
   "metadata": {},
   "outputs": [
    {
     "data": {
      "text/plain": [
       "(109514, 27)"
      ]
     },
     "execution_count": 13,
     "metadata": {},
     "output_type": "execute_result"
    }
   ],
   "source": [
    "cluster_data.shape # 正規化された値。 raw_data/cluster_sizes"
   ]
  },
  {
   "cell_type": "code",
   "execution_count": 14,
   "metadata": {},
   "outputs": [
    {
     "data": {
      "text/plain": [
       "{0: (43.462934984, -3.8031018662999996),\n",
       " 1: (43.46304220533333, -3.8020056188666667),\n",
       " 2: (43.463135002399994, -3.8010452985999996),\n",
       " 3: (43.463221747, -3.8001626557692303),\n",
       " 4: (43.46268375016666, -3.800753206),\n",
       " 5: (43.46244632016666, -3.8008664175),\n",
       " 6: (43.46293138835713, -3.800218201214286),\n",
       " 7: (43.462512025333325, -3.800186678733333),\n",
       " 8: (43.46428866583333, -3.800416771833333),\n",
       " 9: (43.464058553950004, -3.7997886166499995),\n",
       " 10: (43.46354507466666, -3.799695840666667),\n",
       " 11: (43.4631804555, -3.7996172718333328),\n",
       " 12: (43.4628070155, -3.7995602264999997),\n",
       " 13: (43.46396602240001, -3.7994388162),\n",
       " 14: (43.46417569383334, -3.7985531225555556),\n",
       " 15: (43.4636775221, -3.7984617774),\n",
       " 16: (43.463307183199994, -3.7983939859999998),\n",
       " 17: (43.46294807636364, -3.798330687454545),\n",
       " 18: (43.464407522625, -3.7990541931874997),\n",
       " 19: (43.46457756648275, -3.7976750693793107),\n",
       " 20: (43.46386252214286, -3.798936424),\n",
       " 21: (43.46340172608333, -3.799055088333333),\n",
       " 22: (43.463070222999995, -3.7987716571),\n",
       " 23: (43.4626330197, -3.7989294380000005),\n",
       " 24: (43.463984126444444, -3.7977010471666666),\n",
       " 25: (43.46353122435294, -3.7977288212941187),\n",
       " 26: (43.46316863233333, -3.7977686097500007)}"
      ]
     },
     "execution_count": 14,
     "metadata": {},
     "output_type": "execute_result"
    }
   ],
   "source": [
    "# clusterごとのlocationsを求める\n",
    "location_dic = {}\n",
    "for cid, node_id_list in cluster2id.items():\n",
    "    latitude = 0\n",
    "    longitude = 0\n",
    "    for node_id in node_id_list:\n",
    "        latitude += locations[node_id][0]\n",
    "        longitude += locations[node_id][1]\n",
    "    location_dic[cid] = (latitude/cluster_sizes[cid], longitude/cluster_sizes[cid])\n",
    "location_dic"
   ]
  },
  {
   "cell_type": "code",
   "execution_count": 15,
   "metadata": {},
   "outputs": [
    {
     "data": {
      "text/plain": [
       "{0: 0,\n",
       " 1: 1,\n",
       " 2: 2,\n",
       " 3: 3,\n",
       " 4: 4,\n",
       " 5: 5,\n",
       " 6: 6,\n",
       " 7: 7,\n",
       " 8: 8,\n",
       " 9: 9,\n",
       " 10: 10,\n",
       " 11: 11,\n",
       " 12: 12,\n",
       " 13: 13,\n",
       " 14: 14,\n",
       " 15: 15,\n",
       " 16: 16,\n",
       " 17: 17,\n",
       " 18: 18,\n",
       " 19: 19,\n",
       " 20: 20,\n",
       " 21: 21,\n",
       " 22: 22,\n",
       " 23: 23,\n",
       " 24: 24,\n",
       " 25: 25,\n",
       " 26: 26}"
      ]
     },
     "execution_count": 15,
     "metadata": {},
     "output_type": "execute_result"
    }
   ],
   "source": [
    "node_idx_table = {}\n",
    "for idx, node in enumerate(cluster_list):\n",
    "    node_idx_table[node] = idx\n",
    "node_idx_table"
   ]
  },
  {
   "cell_type": "code",
   "execution_count": 16,
   "metadata": {},
   "outputs": [],
   "source": [
    "rows = []\n",
    "for node, idx in node_idx_table.items():\n",
    "    rows.append([node, idx])\n",
    "df = pd.DataFrame(rows, columns=['node', 'ID'])\n",
    "df.to_csv(OutputDir + '/node_idx.csv', index=False, encoding='utf_8_sig')"
   ]
  },
  {
   "cell_type": "code",
   "execution_count": 17,
   "metadata": {},
   "outputs": [
    {
     "data": {
      "text/html": [
       "<div>\n",
       "<style scoped>\n",
       "    .dataframe tbody tr th:only-of-type {\n",
       "        vertical-align: middle;\n",
       "    }\n",
       "\n",
       "    .dataframe tbody tr th {\n",
       "        vertical-align: top;\n",
       "    }\n",
       "\n",
       "    .dataframe thead th {\n",
       "        text-align: right;\n",
       "    }\n",
       "</style>\n",
       "<table border=\"1\" class=\"dataframe\">\n",
       "  <thead>\n",
       "    <tr style=\"text-align: right;\">\n",
       "      <th></th>\n",
       "      <th>name</th>\n",
       "      <th>ID</th>\n",
       "      <th>range0</th>\n",
       "      <th>range1</th>\n",
       "      <th>type</th>\n",
       "      <th>primary</th>\n",
       "      <th>mean</th>\n",
       "      <th>std</th>\n",
       "      <th>min</th>\n",
       "      <th>max</th>\n",
       "      <th>class0</th>\n",
       "      <th>class1</th>\n",
       "    </tr>\n",
       "  </thead>\n",
       "  <tbody>\n",
       "    <tr>\n",
       "      <th>0</th>\n",
       "      <td>parking type</td>\n",
       "      <td>0</td>\n",
       "      <td>0</td>\n",
       "      <td>1</td>\n",
       "      <td>VECTOR</td>\n",
       "      <td>True</td>\n",
       "      <td>False</td>\n",
       "      <td>False</td>\n",
       "      <td>False</td>\n",
       "      <td>False</td>\n",
       "      <td>dummy0</td>\n",
       "      <td>dummy1</td>\n",
       "    </tr>\n",
       "    <tr>\n",
       "      <th>1</th>\n",
       "      <td>available num</td>\n",
       "      <td>1</td>\n",
       "      <td>2</td>\n",
       "      <td>2</td>\n",
       "      <td>SCALAR</td>\n",
       "      <td>False</td>\n",
       "      <td>0.83267</td>\n",
       "      <td>0.179818</td>\n",
       "      <td>0</td>\n",
       "      <td>1</td>\n",
       "      <td>False</td>\n",
       "      <td>False</td>\n",
       "    </tr>\n",
       "    <tr>\n",
       "      <th>2</th>\n",
       "      <td>attr(timestamp)</td>\n",
       "      <td>2</td>\n",
       "      <td>3</td>\n",
       "      <td>34</td>\n",
       "      <td>VECTOR</td>\n",
       "      <td>False</td>\n",
       "      <td>False</td>\n",
       "      <td>False</td>\n",
       "      <td>False</td>\n",
       "      <td>False</td>\n",
       "      <td>False</td>\n",
       "      <td>False</td>\n",
       "    </tr>\n",
       "  </tbody>\n",
       "</table>\n",
       "</div>"
      ],
      "text/plain": [
       "              name  ID  range0  range1    type  primary     mean       std  \\\n",
       "0     parking type   0       0       1  VECTOR     True    False     False   \n",
       "1    available num   1       2       2  SCALAR    False  0.83267  0.179818   \n",
       "2  attr(timestamp)   2       3      34  VECTOR    False    False     False   \n",
       "\n",
       "     min    max  class0  class1  \n",
       "0  False  False  dummy0  dummy1  \n",
       "1      0      1   False   False  \n",
       "2  False  False   False   False  "
      ]
     },
     "execution_count": 17,
     "metadata": {},
     "output_type": "execute_result"
    }
   ],
   "source": [
    "columns = ['name', 'ID', 'range0', 'range1', 'type', 'primary', 'mean', 'std', 'min', 'max', 'class0', 'class1']\n",
    "\n",
    "rows = []\n",
    "row = ['parking type', 0, 0, 1, 'VECTOR', True, False, False, False, False, 'dummy0', 'dummy1']\n",
    "rows.append(row)\n",
    "row = ['available num', 1, 2, 2, 'SCALAR', False, cluster_data.mean(), cluster_data.std(), cluster_data.min(), cluster_data.max(), False, False]\n",
    "rows.append(row)\n",
    "row = ['attr(timestamp)', 2, 3, 34, 'VECTOR', False, False, False, False, False, False, False]\n",
    "rows.append(row)\n",
    "\n",
    "df = pd.DataFrame(rows, columns=columns)\n",
    "df.to_csv(OutputDir + '/attribute_idx.csv', index=False, encoding='utf_8_sig')\n",
    "df"
   ]
  },
  {
   "cell_type": "code",
   "execution_count": 18,
   "metadata": {},
   "outputs": [],
   "source": [
    "#共通設定\n",
    "\n",
    "train_start, train_end = 8500, -15000\n",
    "valid_start, valid_end = -15000,-13000\n",
    "test_start, test_end  = -13000,-12000\n",
    "\n",
    "in_size = 48\n",
    "out_size = 8\n",
    "interval = 15"
   ]
  },
  {
   "cell_type": "code",
   "execution_count": 19,
   "metadata": {},
   "outputs": [],
   "source": [
    "trs, tre = list(range(109514))[train_start], list(range(109514))[train_end]"
   ]
  },
  {
   "cell_type": "code",
   "execution_count": 20,
   "metadata": {},
   "outputs": [],
   "source": [
    "vas, vae = list(range(109514))[valid_start], list(range(109514))[valid_end]"
   ]
  },
  {
   "cell_type": "code",
   "execution_count": 21,
   "metadata": {},
   "outputs": [],
   "source": [
    "tes, tee = list(range(109514))[test_start], list(range(109514))[test_end]"
   ]
  },
  {
   "cell_type": "code",
   "execution_count": 22,
   "metadata": {},
   "outputs": [
    {
     "data": {
      "text/plain": [
       "86014"
      ]
     },
     "execution_count": 22,
     "metadata": {},
     "output_type": "execute_result"
    }
   ],
   "source": [
    "tre - trs"
   ]
  },
  {
   "cell_type": "code",
   "execution_count": 23,
   "metadata": {},
   "outputs": [
    {
     "data": {
      "text/plain": [
       "2000"
      ]
     },
     "execution_count": 23,
     "metadata": {},
     "output_type": "execute_result"
    }
   ],
   "source": [
    "vae - vas"
   ]
  },
  {
   "cell_type": "code",
   "execution_count": 24,
   "metadata": {},
   "outputs": [
    {
     "data": {
      "text/plain": [
       "1000"
      ]
     },
     "execution_count": 24,
     "metadata": {},
     "output_type": "execute_result"
    }
   ],
   "source": [
    "tee - tes"
   ]
  },
  {
   "cell_type": "code",
   "execution_count": 39,
   "metadata": {},
   "outputs": [
    {
     "data": {
      "text/plain": [
       "89014"
      ]
     },
     "execution_count": 39,
     "metadata": {},
     "output_type": "execute_result"
    }
   ],
   "source": [
    "tee - trs"
   ]
  },
  {
   "cell_type": "code",
   "execution_count": 25,
   "metadata": {},
   "outputs": [],
   "source": [
    "dates = timestamps[trs:tee]"
   ]
  },
  {
   "cell_type": "code",
   "execution_count": 26,
   "metadata": {},
   "outputs": [],
   "source": [
    "rows = []\n",
    "for idx, date in enumerate(dates):\n",
    "    rows.append([date, idx])\n",
    "df = pd.DataFrame(rows, columns=['TS', 'ID'])\n",
    "df.to_csv(OutputDir + '/ts_idx.csv', index=False, encoding='utf_8_sig')"
   ]
  },
  {
   "cell_type": "code",
   "execution_count": 27,
   "metadata": {},
   "outputs": [],
   "source": [
    "# pandas 高速化 https://kunai-lab.hatenablog.jp/entry/2018/04/08/134924\n",
    "df = pd.read_csv(OutputDir + '/ts_idx.csv')\n",
    "df_TS = df.TS.values\n",
    "df_ID = df.ID.values\n",
    "ts_idx_table = {}\n",
    "for row in range(df.shape[0]):\n",
    "    ts_idx_table[df_TS[row]] = df_ID[row]"
   ]
  },
  {
   "cell_type": "code",
   "execution_count": 28,
   "metadata": {},
   "outputs": [
    {
     "data": {
      "text/plain": [
       "89014"
      ]
     },
     "execution_count": 28,
     "metadata": {},
     "output_type": "execute_result"
    }
   ],
   "source": [
    "len(ts_idx_table)"
   ]
  },
  {
   "cell_type": "code",
   "execution_count": 29,
   "metadata": {},
   "outputs": [
    {
     "data": {
      "text/plain": [
       "27"
      ]
     },
     "execution_count": 29,
     "metadata": {},
     "output_type": "execute_result"
    }
   ],
   "source": [
    "len(node_idx_table)"
   ]
  },
  {
   "cell_type": "code",
   "execution_count": 30,
   "metadata": {},
   "outputs": [],
   "source": [
    "exist_table = np.ones((len(node_idx_table), len(ts_idx_table)))\n",
    "np.save(OutputDir + '/exist_table', exist_table)"
   ]
  },
  {
   "cell_type": "code",
   "execution_count": 31,
   "metadata": {},
   "outputs": [],
   "source": [
    "for ts in range(len(ts_idx_table)):\n",
    "    node_attribute = np.zeros((len(node_idx_table), 35))\n",
    "    for node_id in range(len(node_idx_table)):\n",
    "        node_attribute[node_id][0] = 1 # primary class、dummy0を表す。\n",
    "        node_attribute[node_id][2] = cluster_data[train_start + ts][node_id]\n",
    "        attr_flatten = attr[ts].reshape(-1)\n",
    "        node_attribute[node_id][3:35] = attr_flatten\n",
    "    np.save(OutputDir + '/node_attribute' + str(ts), node_attribute)"
   ]
  },
  {
   "cell_type": "code",
   "execution_count": 32,
   "metadata": {},
   "outputs": [],
   "source": [
    "# 緯度・経度から2点間の距離を求める\n",
    "#https://qiita.com/s-wakaba/items/e12f2a575b6885579df7\n",
    "from math import sin, cos, acos, radians\n",
    "earth_rad = 6378.137\n",
    "\n",
    "def latlng_to_xyz(lat, lng):\n",
    "    rlat, rlng = radians(lat), radians(lng)\n",
    "    coslat = cos(rlat)\n",
    "    return coslat*cos(rlng), coslat*sin(rlng), sin(rlat)\n",
    "\n",
    "def dist_on_sphere(pos0, pos1, radius=earth_rad):\n",
    "    xyz0, xyz1 = latlng_to_xyz(*pos0), latlng_to_xyz(*pos1)\n",
    "    return acos(sum(x * y for x, y in zip(xyz0, xyz1)))*radius"
   ]
  },
  {
   "cell_type": "code",
   "execution_count": 33,
   "metadata": {},
   "outputs": [
    {
     "name": "stdout",
     "output_type": "stream",
     "text": [
      "距離パーセンタイル\n",
      "000% 0.027968740033382622\n",
      "025% 0.09421652522933369\n",
      "050% 0.14449681508385825\n",
      "075% 0.19965567407899545\n",
      "100% 0.47506683288359797\n"
     ]
    }
   ],
   "source": [
    "dist_list =[]\n",
    "for cluster_1 in cluster_list:\n",
    "    for cluster_2 in cluster_list[cluster_list.index(cluster_1):]:\n",
    "        if cluster_1 == cluster_2:\n",
    "            continue\n",
    "        dist = dist_on_sphere(location_dic[cluster_1], location_dic[cluster_2])\n",
    "        dist_list.append(dist)\n",
    "dist_list = np.array(dist_list)\n",
    "print(\"距離パーセンタイル\")\n",
    "print(\"000%\", np.percentile(dist_list, 0))\n",
    "print(\"025%\", np.percentile(dist_list, 25))\n",
    "print(\"050%\", np.percentile(dist_list, 50))\n",
    "print(\"075%\", np.percentile(dist_list, 75))\n",
    "print(\"100%\", np.percentile(dist_list, 100))"
   ]
  },
  {
   "cell_type": "code",
   "execution_count": 34,
   "metadata": {},
   "outputs": [
    {
     "name": "stdout",
     "output_type": "stream",
     "text": [
      "隣接行列dense率と距離閾値\n",
      "25%,  < 0.095\n",
      "50%,  < 0.145\n",
      "75%,  < 0.2\n",
      "100%,  < 0.476\n"
     ]
    }
   ],
   "source": [
    "station_list = cluster_list\n",
    "coordinates = location_dic\n",
    "flag25, flag50, flag75, flag100 = 0, 0, 0, 0\n",
    "adj_max_sum = len(node_idx_table) * len(node_idx_table) -  len(node_idx_table)\n",
    "print(\"隣接行列dense率と距離閾値\")\n",
    "for thres in range(1000):\n",
    "    thres = thres / 1000.0\n",
    "    adj = np.zeros((len(node_idx_table), len(node_idx_table)))\n",
    "    for station_1 in station_list:\n",
    "        for station_2 in station_list:\n",
    "            if station_1 == station_2:\n",
    "                continue\n",
    "            dist = dist_on_sphere(coordinates[station_1], coordinates[station_2])\n",
    "            if dist < thres:\n",
    "                adj[node_idx_table[station_1]][node_idx_table[station_2]] = 1\n",
    "    dense_rate = adj.sum() / adj_max_sum\n",
    "    if flag25==0 and dense_rate > 0.25:\n",
    "        flag25 = 1\n",
    "        print(str(int(dense_rate*100))+\"%,  <\", thres)\n",
    "    if flag50==0 and dense_rate > 0.5:\n",
    "        flag50 = 1\n",
    "        print(str(int(dense_rate*100))+\"%,  <\", thres)\n",
    "    if flag75==0 and dense_rate > 0.75:\n",
    "        flag75 = 1\n",
    "        print(str(int(dense_rate*100))+\"%,  <\", thres)\n",
    "    if flag100==0 and dense_rate >= 1:\n",
    "        flag100 = 1\n",
    "        print(str(int(dense_rate*100))+\"%,  <\", thres)"
   ]
  },
  {
   "cell_type": "code",
   "execution_count": 35,
   "metadata": {},
   "outputs": [
    {
     "name": "stdout",
     "output_type": "stream",
     "text": [
      "[[0. 1. 0. 0. 0. 0. 0. 0. 0. 0. 0. 0. 0. 0. 0. 0. 0. 0. 0. 0. 0. 0. 0. 0.\n",
      "  0. 0. 0.]\n",
      " [1. 0. 1. 0. 0. 0. 0. 0. 0. 0. 0. 0. 0. 0. 0. 0. 0. 0. 0. 0. 0. 0. 0. 0.\n",
      "  0. 0. 0.]\n",
      " [0. 1. 0. 1. 1. 1. 1. 0. 0. 0. 0. 0. 0. 0. 0. 0. 0. 0. 0. 0. 0. 0. 0. 0.\n",
      "  0. 0. 0.]\n",
      " [0. 0. 1. 0. 1. 0. 1. 1. 0. 0. 1. 1. 1. 0. 0. 0. 0. 0. 0. 0. 0. 1. 0. 0.\n",
      "  0. 0. 0.]\n",
      " [0. 0. 1. 1. 0. 1. 1. 1. 0. 0. 0. 0. 0. 0. 0. 0. 0. 0. 0. 0. 0. 0. 0. 0.\n",
      "  0. 0. 0.]\n",
      " [0. 0. 1. 0. 1. 0. 1. 1. 0. 0. 0. 0. 0. 0. 0. 0. 0. 0. 0. 0. 0. 0. 0. 0.\n",
      "  0. 0. 0.]\n",
      " [0. 0. 1. 1. 1. 1. 0. 1. 0. 0. 1. 1. 1. 0. 0. 0. 0. 0. 0. 0. 0. 0. 0. 0.\n",
      "  0. 0. 0.]\n",
      " [0. 0. 0. 1. 1. 1. 1. 0. 0. 0. 0. 1. 1. 0. 0. 0. 0. 0. 0. 0. 0. 0. 0. 0.\n",
      "  0. 0. 0.]\n",
      " [0. 0. 0. 0. 0. 0. 0. 0. 0. 1. 0. 0. 0. 1. 0. 0. 0. 0. 0. 0. 0. 0. 0. 0.\n",
      "  0. 0. 0.]\n",
      " [0. 0. 0. 0. 0. 0. 0. 0. 1. 0. 1. 0. 0. 1. 0. 0. 0. 0. 1. 0. 1. 1. 0. 0.\n",
      "  0. 0. 0.]\n",
      " [0. 0. 0. 1. 0. 0. 1. 0. 0. 1. 0. 1. 1. 1. 0. 0. 0. 0. 0. 0. 1. 1. 1. 0.\n",
      "  0. 0. 0.]\n",
      " [0. 0. 0. 1. 0. 0. 1. 1. 0. 0. 1. 0. 1. 1. 0. 0. 0. 0. 0. 0. 1. 1. 1. 1.\n",
      "  0. 0. 0.]\n",
      " [0. 0. 0. 1. 0. 0. 1. 1. 0. 0. 1. 1. 0. 0. 0. 0. 0. 0. 0. 0. 0. 1. 1. 1.\n",
      "  0. 0. 0.]\n",
      " [0. 0. 0. 0. 0. 0. 0. 0. 1. 1. 1. 1. 0. 0. 1. 1. 0. 0. 1. 0. 1. 1. 0. 0.\n",
      "  0. 0. 0.]\n",
      " [0. 0. 0. 0. 0. 0. 0. 0. 0. 0. 0. 0. 0. 1. 0. 1. 0. 0. 1. 1. 1. 0. 0. 0.\n",
      "  1. 0. 0.]\n",
      " [0. 0. 0. 0. 0. 0. 0. 0. 0. 0. 0. 0. 0. 1. 1. 0. 1. 1. 1. 0. 1. 1. 1. 0.\n",
      "  1. 1. 1.]\n",
      " [0. 0. 0. 0. 0. 0. 0. 0. 0. 0. 0. 0. 0. 0. 0. 1. 0. 1. 0. 0. 1. 1. 1. 1.\n",
      "  1. 1. 1.]\n",
      " [0. 0. 0. 0. 0. 0. 0. 0. 0. 0. 0. 0. 0. 0. 0. 1. 1. 0. 0. 0. 0. 1. 1. 1.\n",
      "  0. 1. 1.]\n",
      " [0. 0. 0. 0. 0. 0. 0. 0. 0. 1. 0. 0. 0. 1. 1. 1. 0. 0. 0. 0. 1. 0. 0. 0.\n",
      "  0. 0. 0.]\n",
      " [0. 0. 0. 0. 0. 0. 0. 0. 0. 0. 0. 0. 0. 0. 1. 0. 0. 0. 0. 0. 0. 0. 0. 0.\n",
      "  1. 0. 0.]\n",
      " [0. 0. 0. 0. 0. 0. 0. 0. 0. 1. 1. 1. 0. 1. 1. 1. 1. 0. 1. 0. 0. 1. 1. 0.\n",
      "  0. 0. 0.]\n",
      " [0. 0. 0. 1. 0. 0. 0. 0. 0. 1. 1. 1. 1. 1. 0. 1. 1. 1. 0. 0. 1. 0. 1. 1.\n",
      "  0. 0. 0.]\n",
      " [0. 0. 0. 0. 0. 0. 0. 0. 0. 0. 1. 1. 1. 0. 0. 1. 1. 1. 0. 0. 1. 1. 0. 1.\n",
      "  0. 0. 1.]\n",
      " [0. 0. 0. 0. 0. 0. 0. 0. 0. 0. 0. 1. 1. 0. 0. 0. 1. 1. 0. 0. 0. 1. 1. 0.\n",
      "  0. 0. 0.]\n",
      " [0. 0. 0. 0. 0. 0. 0. 0. 0. 0. 0. 0. 0. 0. 1. 1. 1. 0. 0. 1. 0. 0. 0. 0.\n",
      "  0. 1. 1.]\n",
      " [0. 0. 0. 0. 0. 0. 0. 0. 0. 0. 0. 0. 0. 0. 0. 1. 1. 1. 0. 0. 0. 0. 0. 0.\n",
      "  1. 0. 1.]\n",
      " [0. 0. 0. 0. 0. 0. 0. 0. 0. 0. 0. 0. 0. 0. 0. 1. 1. 1. 0. 0. 0. 0. 1. 0.\n",
      "  1. 1. 0.]]\n"
     ]
    },
    {
     "data": {
      "text/plain": [
       "(1, array([0, 0, 0, 0, 0, 0, 0, 0, 0, 0, 0, 0, 0, 0, 0, 0, 0, 0, 0, 0, 0, 0,\n",
       "        0, 0, 0, 0, 0], dtype=int32))"
      ]
     },
     "execution_count": 35,
     "metadata": {},
     "output_type": "execute_result"
    }
   ],
   "source": [
    "#dist_matrix = np.full((len(node_idx_table), len(node_idx_table)), -1)\n",
    "dist_matrix = np.zeros((len(node_idx_table), len(node_idx_table)))\n",
    "for station_1 in station_list:\n",
    "    for station_2 in station_list:\n",
    "        if station_1 == station_2:\n",
    "            continue\n",
    "        dist = dist_on_sphere(coordinates[station_1], coordinates[station_2])\n",
    "        if dist < 0.095:\n",
    "            label_type = 1\n",
    "        else:\n",
    "            label_type = 0\n",
    "        #elif dist < 0.145:\n",
    "        #    label_type = 1\n",
    "        #elif dist < 0.2:\n",
    "        #    label_type = 2\n",
    "        #else:\n",
    "        #    label_type = 3\n",
    "        dist_matrix[node_idx_table[station_1]][node_idx_table[station_2]] = label_type\n",
    "print(dist_matrix)\n",
    "\n",
    "import numpy as np\n",
    "from scipy.sparse.csgraph import connected_components\n",
    "from scipy.sparse import csr_matrix\n",
    "\n",
    "n, labels = connected_components(dist_matrix)\n",
    "n, labels"
   ]
  },
  {
   "cell_type": "code",
   "execution_count": 36,
   "metadata": {},
   "outputs": [],
   "source": [
    "for ts in range(len(ts_idx_table)):\n",
    "    adjacency = lil_matrix((len(node_idx_table),  len(node_idx_table)))\n",
    "    for node_id_1 in range(len(node_idx_table)):\n",
    "        for node_id_2 in range(len(node_idx_table)):\n",
    "            if dist_matrix[node_id_1][node_id_2] == 1:\n",
    "                adjacency[node_id_1, node_id_2] = 1\n",
    "    mmwrite(OutputDir + '/adjacency' + str(ts), adjacency)"
   ]
  },
  {
   "cell_type": "code",
   "execution_count": null,
   "metadata": {},
   "outputs": [],
   "source": [
    "dist_matrix.sum()"
   ]
  },
  {
   "cell_type": "code",
   "execution_count": null,
   "metadata": {},
   "outputs": [],
   "source": []
  },
  {
   "cell_type": "code",
   "execution_count": null,
   "metadata": {},
   "outputs": [],
   "source": []
  },
  {
   "cell_type": "code",
   "execution_count": null,
   "metadata": {},
   "outputs": [],
   "source": []
  },
  {
   "cell_type": "code",
   "execution_count": null,
   "metadata": {},
   "outputs": [],
   "source": []
  },
  {
   "cell_type": "code",
   "execution_count": null,
   "metadata": {},
   "outputs": [],
   "source": []
  },
  {
   "cell_type": "code",
   "execution_count": null,
   "metadata": {},
   "outputs": [],
   "source": [
    "df_pm25 = pd.read_csv(InputDir + \"/PM2.5.csv\")\n",
    "df_pm25.head()"
   ]
  },
  {
   "cell_type": "code",
   "execution_count": null,
   "metadata": {},
   "outputs": [],
   "source": [
    "df_pm25.isnull().sum()"
   ]
  },
  {
   "cell_type": "code",
   "execution_count": null,
   "metadata": {},
   "outputs": [],
   "source": [
    "# 2015以降で全てのステーションが欠損値であるインデックスを保持、前処理時にサンプルに含めないようにする。\n",
    "#df_missing = df_pm25.drop(\"时间\", axis=1)[6288:].isnull().all(axis=1)\n",
    "#len(list(df_missing[df_missing == True].index))"
   ]
  },
  {
   "cell_type": "code",
   "execution_count": null,
   "metadata": {},
   "outputs": [],
   "source": [
    "# 列ごとに線形補完、2015年以降を使う（〜3/24）\n",
    "df_pm25 = df_pm25.interpolate()[6288:]\n",
    "df_pm25.head()"
   ]
  },
  {
   "cell_type": "code",
   "execution_count": null,
   "metadata": {},
   "outputs": [],
   "source": [
    "df_char = pd.read_csv(InputDir + \"/Characteristics.csv\")\n",
    "df_char"
   ]
  },
  {
   "cell_type": "code",
   "execution_count": null,
   "metadata": {},
   "outputs": [],
   "source": [
    "station_list = ['HK', 'JA', 'PT', 'LW', 'XH', 'YP', 'CS', 'PD', 'ZJ', 'QP']\n",
    "station_id = {}\n",
    "for i in range(len(df_char)):\n",
    "    station_id[df_char['Abbr'][i]] = df_char['ID'][i]\n",
    "print(station_list)\n",
    "print(station_id)"
   ]
  },
  {
   "cell_type": "code",
   "execution_count": null,
   "metadata": {},
   "outputs": [],
   "source": [
    "df_feature = pd.read_csv(InputDir + \"/feature/2015.csv\")"
   ]
  },
  {
   "cell_type": "code",
   "execution_count": null,
   "metadata": {},
   "outputs": [],
   "source": [
    "# 上海のステーションと2015年3月24日までの特徴量を抽出\n",
    "df_station_feature = {}\n",
    "conc = []\n",
    "for station, ID in station_id.items():\n",
    "    df = df_feature.query('time < \"2015-03-25 00:00:00\" and name ==\"' + ID + '\"')\n",
    "    df_station_feature[station] = df\n",
    "    conc.append(df)\n",
    "\n",
    "df_feature = pd.concat(conc)\n",
    "df_feature"
   ]
  },
  {
   "cell_type": "code",
   "execution_count": null,
   "metadata": {},
   "outputs": [],
   "source": [
    "node_idx_table = {}\n",
    "for idx, node in enumerate(station_list):\n",
    "    node_idx_table[node] = idx\n",
    "node_idx_table"
   ]
  },
  {
   "cell_type": "code",
   "execution_count": null,
   "metadata": {},
   "outputs": [],
   "source": [
    "rows = []\n",
    "for node, idx in node_idx_table.items():\n",
    "    rows.append([node, idx])\n",
    "df = pd.DataFrame(rows, columns=['node', 'ID'])\n",
    "df.to_csv(OutputDir + '/node_idx.csv', index=False, encoding='utf_8_sig')"
   ]
  },
  {
   "cell_type": "code",
   "execution_count": null,
   "metadata": {},
   "outputs": [],
   "source": [
    "from pylab import rcParams\n",
    "rcParams['figure.figsize'] = 12, 12\n",
    "df_pm25.hist()"
   ]
  },
  {
   "cell_type": "code",
   "execution_count": null,
   "metadata": {},
   "outputs": [],
   "source": [
    "rcParams['figure.figsize'] = 10, 6\n",
    "sns.boxplot(data=df_pm25, whis=1.5)"
   ]
  },
  {
   "cell_type": "code",
   "execution_count": null,
   "metadata": {},
   "outputs": [],
   "source": [
    "df_pm25.set_index('时间').plot()"
   ]
  },
  {
   "cell_type": "code",
   "execution_count": null,
   "metadata": {},
   "outputs": [],
   "source": [
    "rcParams['figure.figsize'] = 12, 12\n",
    "df_feature[['wind_u', 'wind_v', 'temperature', 'humidity', 'wind_speed',\n",
    "       'wind_direction', 'pressure']].hist()"
   ]
  },
  {
   "cell_type": "code",
   "execution_count": null,
   "metadata": {},
   "outputs": [],
   "source": [
    "rcParams['figure.figsize'] = 10, 6\n",
    "sns.boxplot(data=df_feature[['wind_u', 'wind_v', 'temperature', 'humidity', 'wind_speed',\n",
    "       'wind_direction']], whis=1.5)"
   ]
  },
  {
   "cell_type": "code",
   "execution_count": null,
   "metadata": {},
   "outputs": [],
   "source": [
    "sns.boxplot(data=df_feature[['pressure']], whis=1.5)"
   ]
  },
  {
   "cell_type": "code",
   "execution_count": null,
   "metadata": {},
   "outputs": [],
   "source": [
    "df_feature = df_feature[['wind_u', 'wind_v', 'temperature', 'humidity', 'wind_speed','pressure']]\n",
    "\n",
    "wind_u_mean = df_feature['wind_u'].values.mean()\n",
    "wind_u_std = df_feature['wind_u'].values.std()\n",
    "wind_u_min = df_feature['wind_u'].values.min()\n",
    "wind_u_max = df_feature['wind_u'].values.max()\n",
    "\n",
    "wind_v_mean = df_feature['wind_v'].values.mean()\n",
    "wind_v_std = df_feature['wind_v'].values.std()\n",
    "wind_v_min = df_feature['wind_v'].values.min()\n",
    "wind_v_max = df_feature['wind_v'].values.max()\n",
    "\n",
    "temperature_mean = df_feature['temperature'].values.mean()\n",
    "temperature_std = df_feature['temperature'].values.std()\n",
    "temperature_min = df_feature['temperature'].values.min()\n",
    "temperature_max = df_feature['temperature'].values.max()\n",
    "\n",
    "humidity_mean = df_feature['humidity'].values.mean()\n",
    "humidity_std = df_feature['humidity'].values.std()\n",
    "humidity_min = df_feature['humidity'].values.min()\n",
    "humidity_max = df_feature['humidity'].values.max()\n",
    "\n",
    "wind_speed_mean = df_feature['wind_speed'].values.mean()\n",
    "wind_speed_std = df_feature['wind_speed'].values.std()\n",
    "wind_speed_min = df_feature['wind_speed'].values.min()\n",
    "wind_speed_max = df_feature['wind_speed'].values.max()\n",
    "\n",
    "pressure_mean = df_feature['pressure'].values.mean()\n",
    "pressure_std = df_feature['pressure'].values.std()\n",
    "pressure_min = df_feature['pressure'].values.min()\n",
    "pressure_max = df_feature['pressure'].values.max()"
   ]
  },
  {
   "cell_type": "code",
   "execution_count": null,
   "metadata": {},
   "outputs": [],
   "source": [
    "df_pm25_drop = df_pm25.drop(\"时间\", axis=1)\n",
    "pm25_mean = df_pm25_drop.values.mean()\n",
    "pm25_std = df_pm25_drop.values.std()\n",
    "pm25_min = df_pm25_drop.values.min()\n",
    "pm25_max = df_pm25_drop.values.max()\n",
    "print(pm25_mean)\n",
    "print(pm25_std)\n",
    "print(pm25_min)\n",
    "print(pm25_max)\n",
    "df_pm25_drop.head()"
   ]
  },
  {
   "cell_type": "code",
   "execution_count": null,
   "metadata": {},
   "outputs": [],
   "source": [
    "columns = ['name', 'ID', 'range0', 'range1', 'type', 'primary', 'mean', 'std', 'min', 'max', 'class0', 'class1']\n",
    "\n",
    "rows = []\n",
    "row = ['sensor type', 0, 0, 1, 'VECTOR', True, False, False, False, False, 'fix', 'mobile']\n",
    "rows.append(row)\n",
    "row = ['PM2.5', 1, 2, 2, 'SCALAR', False, pm25_mean, pm25_std, pm25_min, pm25_max, False, False]\n",
    "rows.append(row)\n",
    "row = ['wind_u', 2, 3, 3, 'SCALAR', False, wind_u_mean, wind_u_std, wind_u_min, wind_u_max, False, False]\n",
    "rows.append(row)\n",
    "row = ['wind_v', 3, 4, 4, 'SCALAR', False, wind_v_mean, wind_v_std, wind_v_min, wind_v_max, False, False]\n",
    "rows.append(row)\n",
    "row = ['temperature', 4, 5, 5, 'SCALAR', False, temperature_mean, temperature_std, temperature_min, temperature_max, False, False]\n",
    "rows.append(row)\n",
    "row = ['humidity', 5, 6, 6, 'SCALAR', False, humidity_mean, humidity_std, humidity_min, humidity_max, False, False]\n",
    "rows.append(row)\n",
    "row = ['wind_speed', 6, 7, 7, 'SCALAR', False, wind_speed_mean, wind_speed_std, wind_speed_min, wind_speed_max, False, False]\n",
    "rows.append(row)\n",
    "row = ['pressure', 7, 8, 8, 'SCALAR', False, pressure_mean, pressure_std, pressure_min, pressure_max, False, False]\n",
    "rows.append(row)\n",
    "\n",
    "df = pd.DataFrame(rows, columns=columns)\n",
    "df.to_csv(OutputDir + '/attribute_idx.csv', index=False, encoding='utf_8_sig')"
   ]
  },
  {
   "cell_type": "code",
   "execution_count": null,
   "metadata": {},
   "outputs": [],
   "source": [
    "dates = []\n",
    "for date in df_pm25['时间']:\n",
    "    dates.append(date)"
   ]
  },
  {
   "cell_type": "code",
   "execution_count": null,
   "metadata": {},
   "outputs": [],
   "source": [
    "rows = []\n",
    "for idx, date in enumerate(dates):\n",
    "    rows.append([date, idx])\n",
    "df = pd.DataFrame(rows, columns=['TS', 'ID'])\n",
    "df.to_csv(OutputDir + '/ts_idx.csv', index=False, encoding='utf_8_sig')"
   ]
  },
  {
   "cell_type": "code",
   "execution_count": null,
   "metadata": {},
   "outputs": [],
   "source": [
    "# pandas 高速化 https://kunai-lab.hatenablog.jp/entry/2018/04/08/134924\n",
    "df = pd.read_csv(OutputDir + '/ts_idx.csv')\n",
    "df_TS = df.TS.values\n",
    "df_ID = df.ID.values\n",
    "ts_idx_table = {}\n",
    "for row in range(df.shape[0]):\n",
    "    ts_idx_table[df_TS[row]] = df_ID[row]"
   ]
  },
  {
   "cell_type": "code",
   "execution_count": null,
   "metadata": {},
   "outputs": [],
   "source": [
    "exist_table = np.ones((len(node_idx_table), len(ts_idx_table)))\n",
    "np.save(OutputDir + '/exist_table', exist_table)"
   ]
  },
  {
   "cell_type": "code",
   "execution_count": null,
   "metadata": {},
   "outputs": [],
   "source": [
    "for ts in range(len(ts_idx_table)):\n",
    "    node_attribute = np.zeros((len(node_idx_table), 9))\n",
    "    for node_id in range(len(node_idx_table)):\n",
    "        node_attribute[node_id][0] = 1 # primary class、固定ステーションを表す。\n",
    "        node_attribute[node_id][2] = (df_pm25_drop.values[ts][node_id] - pm25_mean) / pm25_std\n",
    "        node_attribute[node_id][3] = (df_feature['wind_u'].values[ts] - wind_u_mean) / wind_u_std\n",
    "        node_attribute[node_id][4] = (df_feature['wind_v'].values[ts] - wind_v_mean) / wind_v_std\n",
    "        node_attribute[node_id][5] = (df_feature['temperature'].values[ts] - temperature_mean) / temperature_std\n",
    "        node_attribute[node_id][6] = (df_feature['humidity'].values[ts] - humidity_mean) / humidity_std\n",
    "        node_attribute[node_id][7] = (df_feature['wind_speed'].values[ts] - wind_speed_mean) / wind_speed_std\n",
    "        node_attribute[node_id][8] = (df_feature['pressure'].values[ts] - pressure_mean) / pressure_std\n",
    "    np.save(OutputDir + '/node_attribute' + str(ts), node_attribute)"
   ]
  },
  {
   "cell_type": "code",
   "execution_count": null,
   "metadata": {},
   "outputs": [],
   "source": [
    "# 緯度・経度から2点間の距離を求める\n",
    "#https://qiita.com/s-wakaba/items/e12f2a575b6885579df7\n",
    "from math import sin, cos, acos, radians\n",
    "earth_rad = 6378.137\n",
    "\n",
    "def latlng_to_xyz(lat, lng):\n",
    "    rlat, rlng = radians(lat), radians(lng)\n",
    "    coslat = cos(rlat)\n",
    "    return coslat*cos(rlng), coslat*sin(rlng), sin(rlat)\n",
    "\n",
    "def dist_on_sphere(pos0, pos1, radius=earth_rad):\n",
    "    xyz0, xyz1 = latlng_to_xyz(*pos0), latlng_to_xyz(*pos1)\n",
    "    return acos(sum(x * y for x, y in zip(xyz0, xyz1)))*radius"
   ]
  },
  {
   "cell_type": "code",
   "execution_count": null,
   "metadata": {},
   "outputs": [],
   "source": [
    "coordinates_list = [ (df_char[\"Coordinates: E\"][node_id], df_char[\"Coordinates: N\"][node_id]) for node_id in range(len(node_idx_table))]\n",
    "coordinates = {station_list[node_id]: coordinates_list[node_id] for node_id in range(len(node_idx_table))}\n",
    "coordinates"
   ]
  },
  {
   "cell_type": "code",
   "execution_count": null,
   "metadata": {},
   "outputs": [],
   "source": [
    "dist_list =[]\n",
    "for station_1 in station_list:\n",
    "    for station_2 in station_list[station_list.index(station_1):]:\n",
    "        if station_1 == station_2:\n",
    "            continue\n",
    "        dist = dist_on_sphere(coordinates[station_1], coordinates[station_2])\n",
    "        dist_list.append(dist)\n",
    "dist_list = np.array(dist_list)\n",
    "print(\"距離パーセンタイル\")\n",
    "print(\"000%\", np.percentile(dist_list, 0))\n",
    "print(\"025%\", np.percentile(dist_list, 25))\n",
    "print(\"050%\", np.percentile(dist_list, 50))\n",
    "print(\"075%\", np.percentile(dist_list, 75))\n",
    "print(\"100%\", np.percentile(dist_list, 100))"
   ]
  },
  {
   "cell_type": "code",
   "execution_count": null,
   "metadata": {},
   "outputs": [],
   "source": [
    "flag25, flag50, flag75, flag100 = 0, 0, 0, 0\n",
    "adj_max_sum = len(node_idx_table) * len(node_idx_table) -  len(node_idx_table)\n",
    "print(\"隣接行列dense率と距離閾値\")\n",
    "for thres in range(5800):\n",
    "    thres = thres / 100.0\n",
    "    adj = np.zeros((len(node_idx_table), len(node_idx_table)))\n",
    "    for station_1 in station_list:\n",
    "        for station_2 in station_list:\n",
    "            if station_1 == station_2:\n",
    "                continue\n",
    "            dist = dist_on_sphere(coordinates[station_1], coordinates[station_2])\n",
    "            if dist < thres:\n",
    "                adj[node_idx_table[station_1]][node_idx_table[station_2]] = 1\n",
    "    dense_rate = adj.sum() / adj_max_sum\n",
    "    if flag25==0 and dense_rate > 0.25:\n",
    "        flag25 = 1\n",
    "        print(str(int(dense_rate*100))+\"%,  <\", thres)\n",
    "    if flag50==0 and dense_rate > 0.5:\n",
    "        flag50 = 1\n",
    "        print(str(int(dense_rate*100))+\"%,  <\", thres)\n",
    "    if flag75==0 and dense_rate > 0.75:\n",
    "        flag75 = 1\n",
    "        print(str(int(dense_rate*100))+\"%,  <\", thres)\n",
    "    if flag100==0 and dense_rate >= 1:\n",
    "        flag100 = 1\n",
    "        print(str(int(dense_rate*100))+\"%,  <\", thres)"
   ]
  },
  {
   "cell_type": "code",
   "execution_count": null,
   "metadata": {},
   "outputs": [],
   "source": [
    "dist_matrix = np.full((len(node_idx_table), len(node_idx_table)), -1)\n",
    "for station_1 in station_list:\n",
    "    for station_2 in station_list:\n",
    "        if station_1 == station_2:\n",
    "            continue\n",
    "        dist = dist_on_sphere(coordinates[station_1], coordinates[station_2])\n",
    "        if dist < 8.84:\n",
    "            label_type = 0\n",
    "        elif dist < 13.49:\n",
    "            label_type = 1\n",
    "        elif dist < 26.76:\n",
    "            label_type = 2\n",
    "        else:\n",
    "            label_type = 3\n",
    "        dist_matrix[node_idx_table[station_1]][node_idx_table[station_2]] = label_type\n",
    "print(dist_matrix)"
   ]
  },
  {
   "cell_type": "code",
   "execution_count": null,
   "metadata": {},
   "outputs": [],
   "source": [
    "for ts in range(len(ts_idx_table)):\n",
    "    adjacency = lil_matrix((len(node_idx_table), 4 * len(node_idx_table)))\n",
    "    for node_id_1 in range(len(node_idx_table)):\n",
    "        for node_id_2 in range(len(node_idx_table)):\n",
    "            if node_id_1 == node_id_2:\n",
    "                continue\n",
    "            label_edge_type = dist_matrix[node_id_1][node_id_2]\n",
    "            adjacency[node_id_1, label_edge_type * len(node_idx_table) + node_id_2] = 1\n",
    "    mmwrite(OutputDir + '/adjacency' + str(ts), adjacency)"
   ]
  },
  {
   "cell_type": "code",
   "execution_count": null,
   "metadata": {},
   "outputs": [],
   "source": [
    "a = np.zeros((1000,27,8,1))\n",
    "a.shape"
   ]
  },
  {
   "cell_type": "code",
   "execution_count": null,
   "metadata": {},
   "outputs": [],
   "source": [
    "a.sum(axis=1).shape"
   ]
  },
  {
   "cell_type": "code",
   "execution_count": null,
   "metadata": {},
   "outputs": [],
   "source": [
    "a.sum(axis=0).shape"
   ]
  },
  {
   "cell_type": "code",
   "execution_count": null,
   "metadata": {},
   "outputs": [],
   "source": [
    "a = np.array([[[0,1,2],[3,4,5],[6,7,8]],[[0,1,2],[3,4,5],[6,7,8]]])\n",
    "a"
   ]
  },
  {
   "cell_type": "code",
   "execution_count": null,
   "metadata": {},
   "outputs": [],
   "source": [
    "a.mean(axis=0)"
   ]
  },
  {
   "cell_type": "code",
   "execution_count": null,
   "metadata": {},
   "outputs": [],
   "source": [
    "a.sum(axis=1)"
   ]
  },
  {
   "cell_type": "code",
   "execution_count": 1,
   "metadata": {},
   "outputs": [
    {
     "data": {
      "text/plain": [
       "1290210"
      ]
     },
     "execution_count": 1,
     "metadata": {},
     "output_type": "execute_result"
    }
   ],
   "source": [
    "86014 * 15"
   ]
  },
  {
   "cell_type": "code",
   "execution_count": 2,
   "metadata": {},
   "outputs": [
    {
     "data": {
      "text/plain": [
       "895.9791666666666"
      ]
     },
     "execution_count": 2,
     "metadata": {},
     "output_type": "execute_result"
    }
   ],
   "source": [
    "1290210 / (60 * 24)"
   ]
  },
  {
   "cell_type": "code",
   "execution_count": 26,
   "metadata": {},
   "outputs": [],
   "source": [
    "def n_sample(days):\n",
    "    return days * (4*24)\n",
    "\n",
    "def start_idx(days):\n",
    "    all_size = 109514\n",
    "    end = -15000\n",
    "    for now_start in range(all_size + end):\n",
    "        train_size = len(list(range(all_size))[now_start:end])\n",
    "        if train_size == n_sample(days):\n",
    "            return now_start"
   ]
  },
  {
   "cell_type": "code",
   "execution_count": 27,
   "metadata": {},
   "outputs": [
    {
     "name": "stdout",
     "output_type": "stream",
     "text": [
      "2年ちょい、今のやつ 8498\n"
     ]
    }
   ],
   "source": [
    "print(\"2年ちょい、今のやつ\", start_idx(896))"
   ]
  },
  {
   "cell_type": "code",
   "execution_count": 28,
   "metadata": {},
   "outputs": [
    {
     "name": "stdout",
     "output_type": "stream",
     "text": [
      "半年 77042\n"
     ]
    }
   ],
   "source": [
    "print(\"半年\", start_idx(int(365/2) * 1))"
   ]
  },
  {
   "cell_type": "code",
   "execution_count": 29,
   "metadata": {},
   "outputs": [
    {
     "name": "stdout",
     "output_type": "stream",
     "text": [
      "1年 59570\n"
     ]
    }
   ],
   "source": [
    "print(\"1年\", start_idx(int(365/2) * 2))"
   ]
  },
  {
   "cell_type": "code",
   "execution_count": 30,
   "metadata": {},
   "outputs": [
    {
     "name": "stdout",
     "output_type": "stream",
     "text": [
      "1年半 42098\n"
     ]
    }
   ],
   "source": [
    "print(\"1年半\", start_idx(int(365/2) * 3))"
   ]
  },
  {
   "cell_type": "code",
   "execution_count": 31,
   "metadata": {},
   "outputs": [
    {
     "name": "stdout",
     "output_type": "stream",
     "text": [
      "2年 24626\n"
     ]
    }
   ],
   "source": [
    "print(\"2年\", start_idx(int(365/2) * 4))"
   ]
  },
  {
   "cell_type": "code",
   "execution_count": 32,
   "metadata": {},
   "outputs": [
    {
     "name": "stdout",
     "output_type": "stream",
     "text": [
      "2年半 7154\n"
     ]
    }
   ],
   "source": [
    "print(\"2年半\", start_idx(int(365/2) * 5))"
   ]
  },
  {
   "cell_type": "code",
   "execution_count": 42,
   "metadata": {},
   "outputs": [
    {
     "name": "stdout",
     "output_type": "stream",
     "text": [
      "3年 None\n"
     ]
    }
   ],
   "source": [
    "print(\"3年\", start_idx(int(365/2) * 6))"
   ]
  },
  {
   "cell_type": "code",
   "execution_count": 47,
   "metadata": {},
   "outputs": [
    {
     "name": "stdout",
     "output_type": "stream",
     "text": [
      "もともと 984.5208333333334 日分しかtrainを取れない\n",
      "3年だと 1092 分必要\n"
     ]
    }
   ],
   "source": [
    "print(\"もともと\", (109514-15000)*15 / (60 * 24), \"日分しかtrainを取れない\")\n",
    "print(\"3年だと\", int(365/2)*6, \"分必要\")"
   ]
  },
  {
   "cell_type": "code",
   "execution_count": 59,
   "metadata": {},
   "outputs": [
    {
     "name": "stdout",
     "output_type": "stream",
     "text": [
      "半年 17472\n",
      "1年 34944\n",
      "1年半 52416\n",
      "2年 69888\n",
      "いま 86014\n"
     ]
    }
   ],
   "source": [
    "now_train = list(range(109514))[8500:-15000]\n",
    "print(\"半年\", len(now_train[77042-8500:]))\n",
    "print(\"1年\", len(now_train[59570-8500:]))\n",
    "print(\"1年半\", len(now_train[42098-8500:]))\n",
    "print(\"2年\", len(now_train[24626-8500:]))\n",
    "print(\"いま\", len(now_train[8500-8500:]))"
   ]
  },
  {
   "cell_type": "code",
   "execution_count": null,
   "metadata": {},
   "outputs": [],
   "source": []
  }
 ],
 "metadata": {
  "kernelspec": {
   "display_name": "Python 3",
   "language": "python",
   "name": "python3"
  },
  "language_info": {
   "codemirror_mode": {
    "name": "ipython",
    "version": 3
   },
   "file_extension": ".py",
   "mimetype": "text/x-python",
   "name": "python",
   "nbconvert_exporter": "python",
   "pygments_lexer": "ipython3",
   "version": "3.7.1"
  }
 },
 "nbformat": 4,
 "nbformat_minor": 2
}
